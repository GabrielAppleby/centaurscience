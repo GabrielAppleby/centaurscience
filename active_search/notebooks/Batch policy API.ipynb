{
 "cells": [
  {
   "cell_type": "code",
   "execution_count": 1,
   "metadata": {},
   "outputs": [],
   "source": [
    "import numpy as np\n",
    "\n",
    "import sys; sys.path.append('../')\n",
    "\n",
    "from policies.batch_ens import batch_ens\n",
    "from utils import load_data\n",
    "from models.knn_model import KNNModel\n",
    "\n",
    "from time import time"
   ]
  },
  {
   "cell_type": "code",
   "execution_count": 2,
   "metadata": {},
   "outputs": [],
   "source": [
    "labels, weights, alpha, nn_ind, sims = load_data('../data/500_nn_data.mat')\n",
    "model = KNNModel(alpha, weights)"
   ]
  },
  {
   "cell_type": "code",
   "execution_count": 4,
   "metadata": {},
   "outputs": [
    {
     "name": "stdout",
     "output_type": "stream",
     "text": [
      "Iteration 0:\n",
      "\tQuery [ 476  210  429 5116]\n",
      "\tLabels [1 1 1 0]\n",
      "\tTook 0.00 seconds\n",
      "Iteration 1:\n",
      "\tQuery [293 169 355 308]\n",
      "\tLabels [1 0 1 1]\n",
      "\tTook 0.01 seconds\n",
      "Iteration 2:\n",
      "\tQuery [296 523 193 462]\n",
      "\tLabels [1 1 1 1]\n",
      "\tTook 0.00 seconds\n",
      "Iteration 3:\n",
      "\tQuery [214 396 202 399]\n",
      "\tLabels [1 1 1 1]\n",
      "\tTook 0.00 seconds\n",
      "Iteration 4:\n",
      "\tQuery [  175   370   310 13441]\n",
      "\tLabels [1 0 0 0]\n",
      "\tTook 0.00 seconds\n"
     ]
    }
   ],
   "source": [
    "total_budget = 20\n",
    "batch_size = 4\n",
    "\n",
    "policy = batch_ens\n",
    "policy_kwargs = {\n",
    "    'budget': 4,  # look-ahead: minimum batch_size, larger -> more non-myopic\n",
    "    'batch_size': batch_size, 'weights': weights,\n",
    "    'nn_ind': nn_ind, 'sims': sims, 'alpha': alpha,\n",
    "    'max_n_samples': 16\n",
    "}\n",
    "\n",
    "train_ind = np.array([168])\n",
    "observed_labels = labels[train_ind]\n",
    "test_ind = np.delete(np.arange(labels.size), train_ind)\n",
    "\n",
    "for i in range(total_budget // batch_size):\n",
    "    # Get recommendations and query the labels\n",
    "    t0 = time()\n",
    "    chosen_ind = policy(\n",
    "        train_ind, observed_labels, test_ind, model,\n",
    "        **policy_kwargs\n",
    "    )\n",
    "    duration = time() - t0\n",
    "    chosen_labels = labels[chosen_ind]\n",
    "    \n",
    "    # Update training and test data\n",
    "    train_ind = np.append(train_ind, chosen_ind)\n",
    "    observed_labels = np.append(observed_labels, chosen_labels)\n",
    "    test_ind = np.delete(\n",
    "        test_ind, np.argwhere(np.isin(test_ind, chosen_ind))\n",
    "    )\n",
    "    \n",
    "    print(f'Iteration {i}:')\n",
    "    print(f'\\tQuery {chosen_ind}')\n",
    "    print(f'\\tLabels {chosen_labels}')\n",
    "    print(f'\\tTook {duration:.2f} seconds')"
   ]
  },
  {
   "cell_type": "code",
   "execution_count": null,
   "metadata": {},
   "outputs": [],
   "source": []
  }
 ],
 "metadata": {
  "kernelspec": {
   "display_name": "Python 3",
   "language": "python",
   "name": "python3"
  },
  "language_info": {
   "codemirror_mode": {
    "name": "ipython",
    "version": 3
   },
   "file_extension": ".py",
   "mimetype": "text/x-python",
   "name": "python",
   "nbconvert_exporter": "python",
   "pygments_lexer": "ipython3",
   "version": "3.7.4"
  }
 },
 "nbformat": 4,
 "nbformat_minor": 4
}
