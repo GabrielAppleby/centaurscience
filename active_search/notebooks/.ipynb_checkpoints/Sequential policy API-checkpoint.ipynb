{
 "cells": [
  {
   "cell_type": "code",
   "execution_count": 6,
   "metadata": {},
   "outputs": [],
   "source": [
    "import numpy as np\n",
    "\n",
    "import sys; sys.path.append('../')\n",
    "\n",
    "from simulations.seq_sim import single_experiment\n",
    "from policies.ens import ens\n",
    "from utils import load_data\n",
    "from models.knn_model import KNNModel"
   ]
  },
  {
   "cell_type": "code",
   "execution_count": 2,
   "metadata": {},
   "outputs": [],
   "source": [
    "labels, weights, alpha, nn_ind, sims = load_data('../data/500_nn_data.mat')\n",
    "model = KNNModel(alpha, weights)"
   ]
  },
  {
   "cell_type": "code",
   "execution_count": 11,
   "metadata": {},
   "outputs": [
    {
     "name": "stdout",
     "output_type": "stream",
     "text": [
      "Iteration 0: query 429, label 1\n",
      "Iteration 1: query 210, label 1\n",
      "Iteration 2: query 308, label 1\n",
      "Iteration 3: query 462, label 1\n",
      "Iteration 4: query 235, label 0\n",
      "Iteration 5: query 355, label 1\n",
      "Iteration 6: query 296, label 1\n",
      "Iteration 7: query 399, label 1\n",
      "Iteration 8: query 523, label 1\n",
      "Iteration 9: query 193, label 1\n"
     ]
    }
   ],
   "source": [
    "total_budget = 10\n",
    "\n",
    "policy = ens\n",
    "policy_kwargs = {\n",
    "    'budget': 20,  # look-ahead: minimum 1, larger -> more non-myopic\n",
    "    'weights': weights, 'nn_ind': nn_ind,  # for predictions\n",
    "    'sims': sims, 'alpha': alpha,  # for predictions\n",
    "    'limit': 1000  # max number of points to consider in each iteration\n",
    "}\n",
    "\n",
    "# Set the initial training data.\n",
    "train_ind = np.array([168])\n",
    "observed_labels = labels[train_ind]\n",
    "test_ind = np.delete(np.arange(labels.size), train_ind)\n",
    "\n",
    "for i in range(total_budget):\n",
    "    # Get recommendation from policy and query the label\n",
    "    chosen_ind = policy(\n",
    "        train_ind, observed_labels, test_ind, model,\n",
    "        **policy_kwargs\n",
    "    )\n",
    "    chosen_label = labels[chosen_ind] \n",
    "    \n",
    "    # Update the training and test data\n",
    "    train_ind = np.append(train_ind, chosen_ind)\n",
    "    observed_labels = np.append(observed_labels, chosen_label)\n",
    "    test_ind = np.delete(\n",
    "        test_ind, np.argwhere(test_ind == chosen_ind)\n",
    "    )\n",
    "    \n",
    "    print(f'Iteration {i}: query {chosen_ind}, label {chosen_label}')"
   ]
  },
  {
   "cell_type": "markdown",
   "metadata": {},
   "source": [
    "# Automated simulations"
   ]
  },
  {
   "cell_type": "code",
   "execution_count": 3,
   "metadata": {},
   "outputs": [],
   "source": [
    "num_inits = 1\n",
    "total_budget = 10\n",
    "\n",
    "name = 'ens'\n",
    "policies = [ens]\n",
    "policy_kwargs = [\n",
    "    {\n",
    "        'budget': 1, 'weights': weights,\n",
    "        'nn_ind': nn_ind, 'sims': sims, \n",
    "        'alpha': alpha, 'limit': 1000\n",
    "    }\n",
    "]"
   ]
  },
  {
   "cell_type": "code",
   "execution_count": 4,
   "metadata": {},
   "outputs": [
    {
     "name": "stdout",
     "output_type": "stream",
     "text": [
      "Initial data: [168], [1]\n",
      "ens\n",
      "Iteration 0: query 476, label 1\n",
      "Iteration 1: query 210, label 1\n",
      "Iteration 2: query 308, label 1\n",
      "Iteration 3: query 462, label 1\n",
      "Iteration 4: query 399, label 1\n",
      "Iteration 5: query 293, label 1\n",
      "Iteration 6: query 175, label 1\n",
      "Iteration 7: query 355, label 1\n",
      "Iteration 8: query 296, label 1\n",
      "Iteration 9: query 523, label 1\n",
      "\n"
     ]
    }
   ],
   "source": [
    "utilities, queries = single_experiment(\n",
    "    labels.size, labels, num_inits, total_budget,\n",
    "    model, policies, policy_kwargs, verbose=True\n",
    ")"
   ]
  },
  {
   "cell_type": "code",
   "execution_count": null,
   "metadata": {},
   "outputs": [],
   "source": []
  }
 ],
 "metadata": {
  "kernelspec": {
   "display_name": "Python 3",
   "language": "python",
   "name": "python3"
  },
  "language_info": {
   "codemirror_mode": {
    "name": "ipython",
    "version": 3
   },
   "file_extension": ".py",
   "mimetype": "text/x-python",
   "name": "python",
   "nbconvert_exporter": "python",
   "pygments_lexer": "ipython3",
   "version": "3.7.4"
  }
 },
 "nbformat": 4,
 "nbformat_minor": 4
}
