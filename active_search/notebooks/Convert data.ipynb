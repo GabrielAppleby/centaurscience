{
 "cells": [
  {
   "cell_type": "code",
   "execution_count": 1,
   "metadata": {},
   "outputs": [],
   "source": [
    "import numpy as np\n",
    "from scipy.io import loadmat"
   ]
  },
  {
   "cell_type": "code",
   "execution_count": 2,
   "metadata": {},
   "outputs": [
    {
     "data": {
      "text/plain": [
       "{'__header__': b'MATLAB 5.0 MAT-file, Platform: MACI64, Created on: Tue Oct  6 20:50:37 2020',\n",
       " '__version__': '1.0',\n",
       " '__globals__': [],\n",
       " 'alpha': array([[0.03, 0.97]]),\n",
       " 'labels': array([[1],\n",
       "        [2],\n",
       "        [1],\n",
       "        ...,\n",
       "        [2],\n",
       "        [2],\n",
       "        [2]], dtype=uint8),\n",
       " 'nearest_neighbors': array([[  114,    64,   161, ..., 10927,  2410,  9508],\n",
       "        [  102,    68,    98, ..., 13144,  5493,  5466],\n",
       "        [  142,     9,    99, ...,  4326,  3213, 13697],\n",
       "        ...,\n",
       "        [   45,   138,   146, ...,  1590, 13544,  2421],\n",
       "        [  163,   625,    78, ...,  2749, 13038,  6941],\n",
       "        [  545,   193,    84, ..., 10463,  2704,  5270]], dtype=uint16),\n",
       " 'similarities': array([[0.55421687, 0.70886076, 0.57608696, ..., 0.84615385, 1.        ,\n",
       "         0.83333333],\n",
       "        [0.51898734, 0.46666667, 0.50561798, ..., 0.84615385, 0.82758621,\n",
       "         0.79166667],\n",
       "        [0.51282051, 0.46153846, 0.48863636, ..., 0.81481481, 0.76666667,\n",
       "         0.79166667],\n",
       "        ...,\n",
       "        [0.21100917, 0.21      , 0.24770642, ..., 0.52941176, 0.55555556,\n",
       "         0.48387097],\n",
       "        [0.20952381, 0.20833333, 0.24770642, ..., 0.52941176, 0.55555556,\n",
       "         0.48387097],\n",
       "        [0.20952381, 0.20779221, 0.24761905, ..., 0.52777778, 0.55      ,\n",
       "         0.48387097]]),\n",
       " 'weights': <14259x14259 sparse matrix of type '<class 'numpy.float64'>'\n",
       " \twith 1425880 stored elements in Compressed Sparse Column format>}"
      ]
     },
     "execution_count": 2,
     "metadata": {},
     "output_type": "execute_result"
    }
   ],
   "source": [
    "data = loadmat('../data/500_nn_data.mat')\n",
    "data"
   ]
  },
  {
   "cell_type": "code",
   "execution_count": 3,
   "metadata": {},
   "outputs": [
    {
     "data": {
      "text/plain": [
       "array([0.97, 0.03])"
      ]
     },
     "execution_count": 3,
     "metadata": {},
     "output_type": "execute_result"
    }
   ],
   "source": [
    "alpha = np.flip(data['alpha'][0])\n",
    "alpha"
   ]
  },
  {
   "cell_type": "code",
   "execution_count": 6,
   "metadata": {},
   "outputs": [
    {
     "data": {
      "text/plain": [
       "array([[1],\n",
       "       [0],\n",
       "       [1],\n",
       "       ...,\n",
       "       [0],\n",
       "       [0],\n",
       "       [0]], dtype=uint8)"
      ]
     },
     "execution_count": 6,
     "metadata": {},
     "output_type": "execute_result"
    }
   ],
   "source": [
    "labels = data['labels']\n",
    "labels[labels == 2] = 0\n",
    "labels"
   ]
  },
  {
   "cell_type": "code",
   "execution_count": 10,
   "metadata": {},
   "outputs": [
    {
     "data": {
      "text/plain": [
       "array([[  113,   101,   141, ...,    44,   162,   544],\n",
       "       [   63,    67,     8, ...,   137,   624,   192],\n",
       "       [  160,    97,    98, ...,   145,    77,    83],\n",
       "       ...,\n",
       "       [10926, 13143,  4325, ...,  1589,  2748, 10462],\n",
       "       [ 2409,  5492,  3212, ..., 13543, 13037,  2703],\n",
       "       [ 9507,  5465, 13696, ...,  2420,  6940,  5269]], dtype=uint16)"
      ]
     },
     "execution_count": 10,
     "metadata": {},
     "output_type": "execute_result"
    }
   ],
   "source": [
    "nns = data['nearest_neighbors'].T - 1\n",
    "nns"
   ]
  },
  {
   "cell_type": "code",
   "execution_count": 11,
   "metadata": {},
   "outputs": [
    {
     "data": {
      "text/plain": [
       "array([[0.55421687, 0.51898734, 0.51282051, ..., 0.21100917, 0.20952381,\n",
       "        0.20952381],\n",
       "       [0.70886076, 0.46666667, 0.46153846, ..., 0.21      , 0.20833333,\n",
       "        0.20779221],\n",
       "       [0.57608696, 0.50561798, 0.48863636, ..., 0.24770642, 0.24770642,\n",
       "        0.24761905],\n",
       "       ...,\n",
       "       [0.84615385, 0.84615385, 0.81481481, ..., 0.52941176, 0.52941176,\n",
       "        0.52777778],\n",
       "       [1.        , 0.82758621, 0.76666667, ..., 0.55555556, 0.55555556,\n",
       "        0.55      ],\n",
       "       [0.83333333, 0.79166667, 0.79166667, ..., 0.48387097, 0.48387097,\n",
       "        0.48387097]])"
      ]
     },
     "execution_count": 11,
     "metadata": {},
     "output_type": "execute_result"
    }
   ],
   "source": [
    "sims = data['similarities'].T\n",
    "sims"
   ]
  },
  {
   "cell_type": "code",
   "execution_count": 13,
   "metadata": {},
   "outputs": [
    {
     "data": {
      "text/plain": [
       "<14259x14259 sparse matrix of type '<class 'numpy.float64'>'\n",
       "\twith 1425880 stored elements in Compressed Sparse Column format>"
      ]
     },
     "execution_count": 13,
     "metadata": {},
     "output_type": "execute_result"
    }
   ],
   "source": [
    "weights = data['weights']\n",
    "weights"
   ]
  },
  {
   "cell_type": "code",
   "execution_count": null,
   "metadata": {},
   "outputs": [],
   "source": []
  }
 ],
 "metadata": {
  "kernelspec": {
   "display_name": "Python 3",
   "language": "python",
   "name": "python3"
  },
  "language_info": {
   "codemirror_mode": {
    "name": "ipython",
    "version": 3
   },
   "file_extension": ".py",
   "mimetype": "text/x-python",
   "name": "python",
   "nbconvert_exporter": "python",
   "pygments_lexer": "ipython3",
   "version": "3.7.4"
  }
 },
 "nbformat": 4,
 "nbformat_minor": 4
}
